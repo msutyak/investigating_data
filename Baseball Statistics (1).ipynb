{
 "cells": [
  {
   "cell_type": "code",
   "execution_count": 2,
   "metadata": {
    "collapsed": false,
    "scrolled": true
   },
   "outputs": [
    {
     "data": {
      "text/plain": [
       "{u'2B': u'0',\n",
       " u'3B': u'0',\n",
       " u'AB': u'4',\n",
       " u'BB': u'0',\n",
       " u'CS': u'0',\n",
       " u'G': u'1',\n",
       " u'GIDP': u'',\n",
       " u'H': u'0',\n",
       " u'HBP': u'',\n",
       " u'HR': u'0',\n",
       " u'IBB': u'',\n",
       " u'R': u'0',\n",
       " u'RBI': u'0',\n",
       " u'SB': u'0',\n",
       " u'SF': u'',\n",
       " u'SH': u'',\n",
       " u'SO': u'0',\n",
       " u'lgID': u'NA',\n",
       " u'playerID': u'abercda01',\n",
       " u'stint': u'1',\n",
       " u'teamID': u'TRO',\n",
       " u'yearID': u'1871'}"
      ]
     },
     "execution_count": 2,
     "metadata": {},
     "output_type": "execute_result"
    }
   ],
   "source": [
    "import unicodecsv\n",
    "\n",
    "with open('lahman-csv_2015-01-24/batting.csv', 'rb') as f:\n",
    "    reader = unicodecsv.DictReader(f)\n",
    "    batting = list(reader)\n",
    "\n",
    "batting[0]"
   ]
  },
  {
   "cell_type": "code",
   "execution_count": 3,
   "metadata": {
    "collapsed": false
   },
   "outputs": [],
   "source": [
    "from datetime import datetime as dt\n",
    "\n",
    "def parse_maybe_int(i):\n",
    "    if i == '':\n",
    "        return None\n",
    "    else: \n",
    "        return int(i)\n",
    "    \n",
    "def parse_date(i):\n",
    "    if date == '':\n",
    "        return None\n",
    "    else: \n",
    "        return dt.strptime(data, '%Y-%m-%d')\n",
    "    "
   ]
  },
  {
   "cell_type": "code",
   "execution_count": 4,
   "metadata": {
    "collapsed": false,
    "scrolled": true
   },
   "outputs": [
    {
     "data": {
      "text/plain": [
       "{u'2B': 0,\n",
       " u'3B': 0,\n",
       " u'AB': 4,\n",
       " u'BB': 0,\n",
       " u'CS': 0,\n",
       " u'G': 1,\n",
       " u'GIDP': None,\n",
       " u'H': 0,\n",
       " u'HBP': None,\n",
       " u'HR': 0,\n",
       " u'IBB': None,\n",
       " u'R': 0,\n",
       " u'RBI': 0,\n",
       " u'SB': 0,\n",
       " u'SF': None,\n",
       " u'SH': None,\n",
       " u'SO': 0,\n",
       " u'lgID': u'NA',\n",
       " u'playerID': u'abercda01',\n",
       " u'stint': u'1',\n",
       " u'teamID': u'TRO',\n",
       " u'yearID': u'1871'}"
      ]
     },
     "execution_count": 4,
     "metadata": {},
     "output_type": "execute_result"
    }
   ],
   "source": [
    "for bat in batting:\n",
    "    bat['G'] = parse_maybe_int(bat['G'])\n",
    "    bat['AB'] = parse_maybe_int(bat['AB'])\n",
    "    bat['R'] = parse_maybe_int(bat['R'])\n",
    "    bat['H'] = parse_maybe_int(bat['H'])\n",
    "    bat['2B'] = parse_maybe_int(bat['2B'])\n",
    "    bat['3B'] = parse_maybe_int(bat['3B'])\n",
    "    bat['HR'] = parse_maybe_int(bat['HR'])\n",
    "    bat['RBI'] = parse_maybe_int(bat['RBI'])\n",
    "    bat['SB'] = parse_maybe_int(bat['SB'])\n",
    "    bat['CS'] = parse_maybe_int(bat['CS'])\n",
    "    bat['BB'] = parse_maybe_int(bat['BB'])\n",
    "    bat['SO'] = parse_maybe_int(bat['SO'])\n",
    "    bat['IBB'] = parse_maybe_int(bat['IBB'])\n",
    "    bat['HBP'] = parse_maybe_int(bat['HBP'])\n",
    "    bat['SH'] = parse_maybe_int(bat['SH'])\n",
    "    bat['SF'] = parse_maybe_int(bat['SF'])\n",
    "    bat['GIDP'] = parse_maybe_int(bat['GIDP'])\n",
    "\n",
    "batting[0]\n",
    "    "
   ]
  },
  {
   "cell_type": "code",
   "execution_count": 5,
   "metadata": {
    "collapsed": false
   },
   "outputs": [],
   "source": [
    "#method to sum certain \"columns\" chosen in a key_list in a dictionary list (get sums of runs, etc..)\n",
    "\n",
    "def sum_columns(key_list, dictionary_list):\n",
    "    batting_totals_dictionary = {}\n",
    "    for key in key_list:\n",
    "        total_sum = 0\n",
    "        for i in dictionary_list:\n",
    "            if i[key] is not None: \n",
    "                total_sum += i[key] \n",
    "        batting_totals_dictionary[key] = total_sum\n",
    "    return batting_totals_dictionary\n",
    "\n",
    "\n",
    "#method to get the averages of the totals in a dictionary  \n",
    "\n",
    "def divide_dictionary(num_dict, divisor):\n",
    "    for key, value in num_dict.items():\n",
    "        num_dict[key] = value / divisor\n",
    "    return num_dict\n",
    "    \n",
    "    \n",
    "        \n"
   ]
  },
  {
   "cell_type": "code",
   "execution_count": 6,
   "metadata": {
    "collapsed": false,
    "scrolled": true
   },
   "outputs": [
    {
     "name": "stdout",
     "output_type": "stream",
     "text": [
      "{'HR': 278764, 'H': 3734197, 'R': 1892148, 'RBI': 1700676}\n",
      "99846\n",
      "{'HR': 2, 'H': 37, 'R': 18, 'RBI': 17}\n"
     ]
    }
   ],
   "source": [
    "##column = 'RBI'\n",
    "##print sum(row[column] for row in batting)\n",
    "\n",
    "#type(batting[0]['RBI']) is int\n",
    "\n",
    "\n",
    "\n",
    "#print batting[0]['RBI'] + batting[1]['RBI']\n",
    "\n",
    "key_list = ['RBI', 'R', 'H', 'HR']\n",
    "total_sums = sum_columns(key_list, batting) \n",
    "\n",
    "print total_sums\n",
    "\n",
    "length = len(batting)\n",
    "\n",
    "print length\n",
    "\n",
    "averages = divide_dictionary(total_sums, length)\n",
    "\n",
    "print averages\n",
    "\n",
    "#print col_totals"
   ]
  },
  {
   "cell_type": "code",
   "execution_count": 15,
   "metadata": {
    "collapsed": false,
    "scrolled": false
   },
   "outputs": [
    {
     "name": "stdout",
     "output_type": "stream",
     "text": [
      "MIL 12306\n",
      "MIN 38796\n",
      "MIA 1767\n",
      "PTF 1197\n",
      "NYP 1018\n",
      "BOS 82561\n",
      "OAK 33922\n",
      "MID 220\n",
      "NYN 34391\n",
      "PH3 70\n",
      "PH2 1472\n",
      "PH1 2529\n",
      "NYA 84951\n",
      "PH4 7481\n",
      "WAS 12979\n",
      "PRO 4037\n",
      "HR1 928\n",
      "SPU 24\n",
      "CH1 302\n",
      "CH2 797\n",
      "PIT 87961\n",
      "RIC 194\n",
      "CHA 77599\n",
      "CHF 1262\n",
      "BFN 3474\n",
      "CHN 95314\n",
      "CHP 886\n",
      "BFP 793\n",
      "CHU 438\n",
      "HAR 770\n",
      "PHI 89333\n",
      "PHN 378\n",
      "NY2 2078\n",
      "NY3 260\n",
      "PHA 36497\n",
      "NY1 54282\n",
      "LAA 10221\n",
      "NY4 3140\n",
      "SFN 39613\n",
      "PHP 941\n",
      "FW1 137\n",
      "PHU 414\n",
      "DTN 4848\n",
      "DET 82533\n",
      "IN1 293\n",
      "IN2 462\n",
      "IN3 2050\n",
      "MLA 641\n",
      "KC1 8104\n",
      "FLO 13300\n",
      "KC2 1431\n",
      "BL4 26\n",
      "BL1 1488\n",
      "BL3 1032\n",
      "BL2 4965\n",
      "BUF 1194\n",
      "PTP 835\n",
      "TRO 624\n",
      "TRN 1542\n",
      "BLU 662\n",
      "WOR 1201\n",
      "BLN 7498\n",
      "LS2 6786\n",
      "LS3 5675\n",
      "LS1 619\n",
      "BLF 1195\n",
      "BLA 1476\n",
      "PT1 2716\n",
      "KCF 1191\n",
      "KCA 32258\n",
      "ANA 6305\n",
      "KCN 494\n",
      "KCU 311\n",
      "MON 23350\n",
      "IND 762\n",
      "ATL 34020\n",
      "BR4 492\n",
      "BR3 4589\n",
      "BR2 1036\n",
      "BR1 152\n",
      "NEW 585\n",
      "COL 17775\n",
      "TL2 739\n",
      "TL1 463\n",
      "ARI 12433\n",
      "BSU 636\n",
      "BSP 992\n",
      "SR2 698\n",
      "BSN 48757\n",
      "SR1 276\n",
      "SEA 26834\n",
      "CL4 8673\n",
      "CL5 1061\n",
      "CL6 2312\n",
      "CL1 423\n",
      "CL2 2437\n",
      "CL3 1380\n",
      "ELI 98\n",
      "LAN 38177\n",
      "SE1 639\n",
      "CLE 80447\n",
      "BS1 3227\n",
      "BS2 1028\n",
      "CLP 849\n",
      "KEO 45\n",
      "WIL 35\n",
      "BRP 964\n",
      "BRO 47236\n",
      "BRF 1309\n",
      "ALT 90\n",
      "TOR 27821\n",
      "CIN 85330\n",
      "WSU 572\n",
      "CAL 20766\n",
      "BAL 42482\n",
      "CN2 5964\n",
      "CN3 549\n",
      "CN1 1643\n",
      "SL4 7950\n",
      "SL5 937\n",
      "SL1 60\n",
      "SL2 386\n",
      "SL3 670\n",
      "ML2 256\n",
      "ML3 227\n",
      "ML1 9385\n",
      "ML4 19564\n",
      "CNU 703\n",
      "SLU 887\n",
      "TBA 12215\n",
      "SLN 85356\n",
      "HOU 35054\n",
      "NH1 170\n",
      "MLU 53\n",
      "SLF 1199\n",
      "SLA 33546\n",
      "TEX 32176\n",
      "RC1 231\n",
      "RC2 709\n",
      "WS1 39059\n",
      "WS3 364\n",
      "WS2 6452\n",
      "WS5 283\n",
      "WS4 80\n",
      "WS7 248\n",
      "WS6 107\n",
      "WS9 691\n",
      "WS8 2160\n",
      "SDN 29336\n"
     ]
    }
   ],
   "source": [
    "#Print Total Runs by Team ID\n",
    "\n",
    "from collections import defaultdict\n",
    "\n",
    "d = defaultdict(int)\n",
    "\n",
    "for item in batting:\n",
    "      d[item['teamID']] += item.get('R', 0) or 0\n",
    "\n",
    "#d = [(k, d[k]) for k in sorted(d, key=d.get, reverse=True)]\n",
    "#d = sorted(d, key=d.get, reverse=True)        \n",
    "        \n",
    "for team, r_sum in d.items():\n",
    "    print team, r_sum"
   ]
  },
  {
   "cell_type": "code",
   "execution_count": 28,
   "metadata": {
    "collapsed": false
   },
   "outputs": [
    {
     "ename": "ValueError",
     "evalue": "too many values to unpack",
     "output_type": "error",
     "traceback": [
      "\u001b[0;31m---------------------------------------------------------------------------\u001b[0m",
      "\u001b[0;31mValueError\u001b[0m                                Traceback (most recent call last)",
      "\u001b[0;32m<ipython-input-28-a71cc6be9666>\u001b[0m in \u001b[0;36m<module>\u001b[0;34m()\u001b[0m\n\u001b[1;32m      9\u001b[0m \u001b[0;34m\u001b[0m\u001b[0m\n\u001b[1;32m     10\u001b[0m \u001b[0;34m\u001b[0m\u001b[0m\n\u001b[0;32m---> 11\u001b[0;31m \u001b[0;32mfor\u001b[0m \u001b[0myear\u001b[0m\u001b[0;34m,\u001b[0m \u001b[0mr_sum\u001b[0m \u001b[0;32min\u001b[0m \u001b[0msorted\u001b[0m\u001b[0;34m(\u001b[0m\u001b[0mnew_dict\u001b[0m\u001b[0;34m.\u001b[0m\u001b[0miterkeys\u001b[0m\u001b[0;34m(\u001b[0m\u001b[0;34m)\u001b[0m\u001b[0;34m)\u001b[0m\u001b[0;34m:\u001b[0m\u001b[0;34m\u001b[0m\u001b[0m\n\u001b[0m\u001b[1;32m     12\u001b[0m     \u001b[0;32mprint\u001b[0m \u001b[0myear\u001b[0m\u001b[0;34m,\u001b[0m \u001b[0mr_sum\u001b[0m\u001b[0;34m\u001b[0m\u001b[0m\n\u001b[1;32m     13\u001b[0m \u001b[0;34m\u001b[0m\u001b[0m\n",
      "\u001b[0;31mValueError\u001b[0m: too many values to unpack"
     ]
    }
   ],
   "source": [
    "#Print Total Runs By Year\n",
    "\n",
    "from collections import defaultdict\n",
    "\n",
    "new_dict = defaultdict(int)\n",
    "\n",
    "for item in batting:\n",
    "      new_dict[item['yearID']] += item.get('R', 0) or 0        \n",
    "        \n",
    "\n",
    "for year, r_sum in sorted(new_dict.iterkeys()): \n",
    "    print year, r_sum\n",
    "        \n",
    "#for year, r_sum in new_dict.items():\n",
    "#    print year, r_sum\n",
    "    \n",
    "#print sorted(new_dict.items())"
   ]
  },
  {
   "cell_type": "code",
   "execution_count": 17,
   "metadata": {
    "collapsed": false
   },
   "outputs": [
    {
     "data": {
      "text/plain": [
       "12698.979865771813"
      ]
     },
     "execution_count": 17,
     "metadata": {},
     "output_type": "execute_result"
    }
   ],
   "source": [
    "#Average runs per team\n",
    "\n",
    "import numpy as np\n",
    "\n",
    "total_runs_by_team = d.values()\n",
    "\n",
    "np.mean(total_runs_by_team) "
   ]
  },
  {
   "cell_type": "code",
   "execution_count": 20,
   "metadata": {
    "collapsed": false
   },
   "outputs": [
    {
     "name": "stdout",
     "output_type": "stream",
     "text": [
      "13139.9166667\n",
      "5295.37158556\n",
      "1904\n",
      "24971\n"
     ]
    }
   ],
   "source": [
    "#Average runs per year\n",
    "\n",
    "import numpy as np\n",
    "\n",
    "total_runs_by_year = new_dict.values()\n",
    "\n",
    "print np.mean(total_runs_by_year) \n",
    "print np.std(total_runs_by_year)\n",
    "print np.min(total_runs_by_year)\n",
    "print np.max(total_runs_by_year)"
   ]
  },
  {
   "cell_type": "code",
   "execution_count": null,
   "metadata": {
    "collapsed": true
   },
   "outputs": [],
   "source": []
  }
 ],
 "metadata": {
  "kernelspec": {
   "display_name": "Python 2",
   "language": "python",
   "name": "python2"
  },
  "language_info": {
   "codemirror_mode": {
    "name": "ipython",
    "version": 2
   },
   "file_extension": ".py",
   "mimetype": "text/x-python",
   "name": "python",
   "nbconvert_exporter": "python",
   "pygments_lexer": "ipython2",
   "version": "2.7.11"
  }
 },
 "nbformat": 4,
 "nbformat_minor": 0
}
